{
 "cells": [
  {
   "cell_type": "code",
   "execution_count": null,
   "id": "4de54c98-6466-4d02-bf37-801f5d3037ad",
   "metadata": {},
   "outputs": [],
   "source": [
    "import numpy as np\n",
    "import matplotlib.pyplot as plt\n",
    "from scipy.spatial import distance\n",
    "\n",
    "# Generate random points forming clusters resembling circles\n",
    "num_clusters = 3\n",
    "points_per_cluster = 1000\n",
    "clusters = []\n",
    "for _ in range(num_clusters):\n",
    "    center = np.random.rand(2)  # Random center for the cluster\n",
    "    radius = np.random.uniform(0.1, 0.2)  # Random radius for the cluster\n",
    "    cluster_points = center + radius * np.random.randn(points_per_cluster, 2)\n",
    "    clusters.append(cluster_points)\n",
    "\n",
    "# Combine all cluster points into one array\n",
    "points = np.concatenate(clusters)\n",
    "\n",
    "# Define the size of the image\n",
    "image_size = 500\n",
    "# Create a grid of points corresponding to the image\n",
    "x = np.linspace(0, 1, image_size)\n",
    "y = np.linspace(0, 1, image_size)\n",
    "X, Y = np.meshgrid(x, y)\n",
    "\n",
    "# Create a blank image\n",
    "binary_mask = np.zeros((image_size, image_size))\n",
    "\n",
    "# Iterate through each cluster\n",
    "for cluster in clusters:\n",
    "    # Calculate distances from each point in the grid to each point in the cluster\n",
    "    distances = distance.cdist(np.c_[X.ravel(), Y.ravel()], cluster)\n",
    "    min_distances = np.min(distances, axis=1)\n",
    "    # Reshape min_distances to match the shape of the grid\n",
    "    min_distances = min_distances.reshape(X.shape)\n",
    "    # Set points inside the cluster to white (1) in the binary mask\n",
    "    binary_mask[min_distances <= 0.03] = 1\n",
    "\n",
    "# Plotting\n",
    "plt.figure(figsize=(8, 8))\n",
    "plt.imshow(binary_mask, cmap='binary', origin='lower')\n",
    "plt.title('Binary Mask: Inside Circles White, Outside Black')\n",
    "plt.axis('off')\n",
    "plt.show()\n"
   ]
  }
 ],
 "metadata": {
  "kernelspec": {
   "display_name": "Python 3 (ipykernel)",
   "language": "python",
   "name": "python3"
  },
  "language_info": {
   "codemirror_mode": {
    "name": "ipython",
    "version": 3
   },
   "file_extension": ".py",
   "mimetype": "text/x-python",
   "name": "python",
   "nbconvert_exporter": "python",
   "pygments_lexer": "ipython3",
   "version": "3.11.7"
  }
 },
 "nbformat": 4,
 "nbformat_minor": 5
}
