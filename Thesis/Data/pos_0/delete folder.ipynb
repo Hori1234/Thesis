{
 "cells": [
  {
   "cell_type": "code",
   "execution_count": 3,
   "id": "494ed3c5-3fb3-4e24-95f3-9ab34918c62f",
   "metadata": {
    "tags": []
   },
   "outputs": [],
   "source": [
    " import os\n",
    "    \n",
    "\n",
    "def delete_file(self, path):\n",
    "        \"\"\"Delete file at path.\"\"\"\n",
    "        path = path.strip('/')\n",
    "        os_path = self._get_os_path(path)\n",
    "        rm = os.unlink\n",
    "        if not os.path.exists(os_path):\n",
    "            raise web.HTTPError(404, u'File or directory does not exist: %s' % os_path)\n",
    "\n",
    "        if os.path.isdir(os_path):\n",
    "            self.log.debug(\"Removing directory %s\", os_path)\n",
    "            with self.perm_to_403():\n",
    "                shutil.rmtree(os_path)\n",
    "        else:\n",
    "            self.log.debug(\"Unlinking file %s\", os_path)\n",
    "            with self.perm_to_403():\n",
    "                rm(os_path)"
   ]
  },
  {
   "cell_type": "code",
   "execution_count": 9,
   "id": "af5e522e-f528-4d54-902c-1881ec5bdde8",
   "metadata": {
    "tags": []
   },
   "outputs": [],
   "source": [
    "path = \"/pos_0_track_full_split\""
   ]
  },
  {
   "cell_type": "code",
   "execution_count": 10,
   "id": "bea41e5c-42f2-4409-a702-e7a537d1bcaf",
   "metadata": {
    "tags": []
   },
   "outputs": [
    {
     "ename": "TypeError",
     "evalue": "delete_file() missing 1 required positional argument: 'path'",
     "output_type": "error",
     "traceback": [
      "\u001b[0;31m---------------------------------------------------------------------------\u001b[0m",
      "\u001b[0;31mTypeError\u001b[0m                                 Traceback (most recent call last)",
      "Cell \u001b[0;32mIn[10], line 1\u001b[0m\n\u001b[0;32m----> 1\u001b[0m \u001b[43mdelete_file\u001b[49m\u001b[43m(\u001b[49m\u001b[43mpath\u001b[49m\u001b[43m)\u001b[49m\n",
      "\u001b[0;31mTypeError\u001b[0m: delete_file() missing 1 required positional argument: 'path'"
     ]
    }
   ],
   "source": [
    "delete_file(path)"
   ]
  },
  {
   "cell_type": "code",
   "execution_count": 13,
   "id": "743babd5-9e97-462f-98e6-38a026569645",
   "metadata": {
    "tags": []
   },
   "outputs": [],
   "source": [
    "rm -rf \"./pos_0_track_full_split\""
   ]
  }
 ],
 "metadata": {
  "kernelspec": {
   "display_name": "Python 3 (ipykernel)",
   "language": "python",
   "name": "python3"
  },
  "language_info": {
   "codemirror_mode": {
    "name": "ipython",
    "version": 3
   },
   "file_extension": ".py",
   "mimetype": "text/x-python",
   "name": "python",
   "nbconvert_exporter": "python",
   "pygments_lexer": "ipython3",
   "version": "3.11.7"
  }
 },
 "nbformat": 4,
 "nbformat_minor": 5
}
