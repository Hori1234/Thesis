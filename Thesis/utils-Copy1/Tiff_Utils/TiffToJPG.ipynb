{
 "cells": [
  {
   "cell_type": "code",
   "execution_count": 1,
   "id": "91d1b744-966b-4556-89e2-5257509e60a9",
   "metadata": {
    "tags": []
   },
   "outputs": [],
   "source": [
    "from PIL import Image\n",
    "import os\n",
    "\n",
    "# Set the path of the directory containing the TIFF files\n",
    "tiff_dir = '../TIFF/'\n",
    "\n",
    "# Set the path of the directory to save the JPEG files\n",
    "jpeg_dir = '../JPG/'\n",
    "\n",
    "# Loop through all the files in the TIFF directory\n",
    "for filename in os.listdir(tiff_dir):\n",
    "    if filename.endswith('.tif') or filename.endswith('.tiff'):\n",
    "        # Open the multi-TIFF file\n",
    "        im = Image.open(os.path.join(tiff_dir, filename))\n",
    "\n",
    "        # Save each frame of the multi-TIFF as a separate JPEG file\n",
    "        for i in range(im.n_frames):\n",
    "            im.seek(i)\n",
    "            # Set the filename of the JPEG file\n",
    "            jpeg_filename = os.path.splitext(filename)[0] + f'_frame{i}.jpg'\n",
    "            # Save the current frame as a JPEG file\n",
    "            im.save(os.path.join(jpeg_dir, jpeg_filename))"
   ]
  }
 ],
 "metadata": {
  "kernelspec": {
   "display_name": "Python 3 (ipykernel)",
   "language": "python",
   "name": "python3"
  },
  "language_info": {
   "codemirror_mode": {
    "name": "ipython",
    "version": 3
   },
   "file_extension": ".py",
   "mimetype": "text/x-python",
   "name": "python",
   "nbconvert_exporter": "python",
   "pygments_lexer": "ipython3",
   "version": "3.11.7"
  }
 },
 "nbformat": 4,
 "nbformat_minor": 5
}
