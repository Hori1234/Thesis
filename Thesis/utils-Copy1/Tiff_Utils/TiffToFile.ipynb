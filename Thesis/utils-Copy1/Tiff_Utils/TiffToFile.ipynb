{
 "cells": [
  {
   "cell_type": "code",
   "execution_count": 1,
   "id": "5d1f1df9-66e6-401a-ac7d-6d314a14372b",
   "metadata": {
    "tags": []
   },
   "outputs": [],
   "source": [
    "from PIL import Image\n",
    "import glob\n",
    "import pathlib\n",
    "import csv\n",
    "\n",
    "# Create an empty list to store the image metadata\n",
    "metadata_list = []\n",
    "tif_file_path = '../Data/pos_0/*.tif'\n",
    "\n",
    "# Search for TIFF image files in the directory\n",
    "for image_path in glob.glob(tif_file_path):\n",
    "    # Open the image file\n",
    "    image = Image.open(image_path)\n",
    "\n",
    "    # Extract basic metadata\n",
    "    image_size = image.size\n",
    "    image_height = image.height\n",
    "    image_width = image.width\n",
    "    image_format = image.format\n",
    "    image_mode = image.mode\n",
    "    image_is_animated = getattr(image, \"is_animated\", False)\n",
    "    frames_in_image = getattr(image, \"n_frames\", 1)\n",
    "\n",
    "    # Create a dictionary to store the metadata\n",
    "    metadata = {\n",
    "        \"filename\": pathlib.Path(image_path).name,\n",
    "        \"size\": image_size,\n",
    "        \"height\": image_height,\n",
    "        \"width\": image_width,\n",
    "        \"format\": image_format,\n",
    "        \"mode\": image_mode,\n",
    "        \"is_animated\": image_is_animated,\n",
    "        \"frames\": frames_in_image,\n",
    "    }\n",
    "\n",
    "    # Add the metadata dictionary to the list\n",
    "    metadata_list.append(metadata)\n",
    "\n",
    "# Write the metadata list to a CSV file\n",
    "with open(\"metadata.csv\", \"w\", newline=\"\") as csv_file:\n",
    "    writer = csv.DictWriter(csv_file, fieldnames=metadata_list[0].keys())\n",
    "    writer.writeheader()\n",
    "    writer.writerows(metadata_list)"
   ]
  }
 ],
 "metadata": {
  "kernelspec": {
   "display_name": "Python 3 (ipykernel)",
   "language": "python",
   "name": "python3"
  },
  "language_info": {
   "codemirror_mode": {
    "name": "ipython",
    "version": 3
   },
   "file_extension": ".py",
   "mimetype": "text/x-python",
   "name": "python",
   "nbconvert_exporter": "python",
   "pygments_lexer": "ipython3",
   "version": "3.11.7"
  }
 },
 "nbformat": 4,
 "nbformat_minor": 5
}
