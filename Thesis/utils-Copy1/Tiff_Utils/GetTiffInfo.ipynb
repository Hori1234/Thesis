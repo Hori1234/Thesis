{
 "cells": [
  {
   "cell_type": "code",
   "execution_count": 5,
   "id": "d9cd749a-dbca-4a5b-8ee9-47738968b981",
   "metadata": {
    "tags": []
   },
   "outputs": [
    {
     "name": "stdout",
     "output_type": "stream",
     "text": [
      "{'Filename': 'Data', 'Image Size': (428, 684), 'Image Height': 684, 'Image Width': 428, 'Image Format': 'TIFF', 'Image Mode': 'RGB', 'Image is Animated': False, 'Frames in Image': 1}\n"
     ]
    }
   ],
   "source": [
    "# from PIL import Image\n",
    "from PIL.ExifTags import TAGS\n",
    "import pathlib\n",
    "import csv\n",
    "\n",
    "import glob\n",
    "from PIL import Image\n",
    "import pandas as pd\n",
    "\n",
    "\n",
    "tif_file_path = '../Data/pos_0/MDA-MB-468_4-colour_EGF_B10_1nM_posXY0_channels_t0_posZ0_colour1_locImage.tif'\n",
    "image = Image.open(tif_file_path)\n",
    "\n",
    "info = []\n",
    "# extract other basic metadata\n",
    "info_dict = {\n",
    "    \"Filename\": image.filename.split('/')[1],\n",
    "    \"Image Size\": image.size,\n",
    "    \"Image Height\": image.height,\n",
    "    \"Image Width\": image.width,\n",
    "    \"Image Format\": image.format,\n",
    "    \"Image Mode\": image.mode,\n",
    "    \"Image is Animated\": getattr(image, \"is_animated\", False),\n",
    "    \"Frames in Image\": getattr(image, \"n_frames\", 1),\n",
    "}\n",
    "\n",
    "print(info_dict)\n",
    "\n",
    "info.append(info_dict)"
   ]
  }
 ],
 "metadata": {
  "kernelspec": {
   "display_name": "Python 3 (ipykernel)",
   "language": "python",
   "name": "python3"
  },
  "language_info": {
   "codemirror_mode": {
    "name": "ipython",
    "version": 3
   },
   "file_extension": ".py",
   "mimetype": "text/x-python",
   "name": "python",
   "nbconvert_exporter": "python",
   "pygments_lexer": "ipython3",
   "version": "3.11.7"
  }
 },
 "nbformat": 4,
 "nbformat_minor": 5
}
